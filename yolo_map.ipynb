{
 "cells": [
  {
   "cell_type": "code",
   "execution_count": 75,
   "metadata": {},
   "outputs": [],
   "source": [
    "# !pip install tqdm ultralytics"
   ]
  },
  {
   "cell_type": "code",
   "execution_count": 76,
   "metadata": {},
   "outputs": [],
   "source": [
    "import pandas as pd\n",
    "from tqdm.notebook import tqdm\n",
    "from os.path import basename, splitext\n",
    "import supervision as sv\n",
    "from supervision.metrics import MeanAveragePrecision\n",
    "from tempfile import mkdtemp\n",
    "from ultralytics import YOLO\n",
    "import os\n",
    "os.environ[\"CUDA_VISIBLE_DEVICES\"] = \"1\"  # Set GPU"
   ]
  },
  {
   "cell_type": "code",
   "execution_count": 77,
   "metadata": {},
   "outputs": [],
   "source": [
    "# Path to CSV\n",
    "result_df_path='/home/shardul.junagade/my-work/domain-adaptation-brick-kilns/map/thera_results_noval_last.csv'\n",
    "\n",
    "# Load trained YOLO model\n",
    "model = YOLO(\"/home/shardul.junagade/my-work/domain-adaptation-brick-kilns/yolo/models_noval/yolo11m-obb-wb/weights/last.pt\")\n",
    "\n",
    "# Name of the experiment\n",
    "experiment=\"Thera WB to Test Delhi\"\n",
    "\n",
    "# GT\n",
    "gt=\"/home/shardul.junagade/my-work/domain-adaptation-brick-kilns/data/thera_rdn_pro/delhi_ncr_4x\""
   ]
  },
  {
   "cell_type": "code",
   "execution_count": 78,
   "metadata": {},
   "outputs": [
    {
     "name": "stdout",
     "output_type": "stream",
     "text": [
      "Number of images in GT: 119\n",
      "Loaded dataset: 119 images\n"
     ]
    },
    {
     "data": {
      "application/vnd.jupyter.widget-view+json": {
       "model_id": "22e0ad27feec4b88b199d66a5d25bbbd",
       "version_major": 2,
       "version_minor": 0
      },
      "text/plain": [
       "  0%|          | 0/119 [00:00<?, ?it/s]"
      ]
     },
     "metadata": {},
     "output_type": "display_data"
    },
    {
     "name": "stdout",
     "output_type": "stream",
     "text": [
      "119 119\n"
     ]
    }
   ],
   "source": [
    "# Class information in YAML file\n",
    "data_yml_save_path = mkdtemp()\n",
    "data_yml = \"\"\"train: dummy\n",
    "val: dummy\n",
    "nc: 3\n",
    "names: [\"CFCBK\", \"FCBK\", \"Zigzag\"]\n",
    "\"\"\"\n",
    "data_yml_path = f\"{data_yml_save_path}/data.yml\"\n",
    "with open(data_yml_path, \"w\") as f:\n",
    "    f.write(data_yml)\n",
    "\n",
    "# GT directories\n",
    "gt_image_dir = gt+\"/images\"\n",
    "gt_label_dir = gt+\"/labels\"\n",
    "print(f\"Number of images in GT: {len(os.listdir(gt_image_dir))}\")\n",
    "\n",
    "# Supervision dataset\n",
    "sv_dataset = sv.DetectionDataset.from_yolo(gt_image_dir, gt_label_dir, data_yml_path)\n",
    "print(f\"Loaded dataset: {len(sv_dataset)} images\")\n",
    "\n",
    "# Initialize lists for predictions and targets\n",
    "targets = []\n",
    "predictions = []\n",
    "\n",
    "# Iterate over the dataset and make predictions\n",
    "for name,_,gt_detection in tqdm(sv_dataset):\n",
    "    file_name=splitext(basename(name))[0]\n",
    "    # prediction_path=join(prediction_dir,f\"{file_name}.txt\")\n",
    "    ultralytics_result=model(name,imgsz=2560,iou=0.33,conf=0.001,exist_ok=True,save_txt=False,max_det=300, verbose=False)[0]\n",
    "    sv_detection=sv.Detections.from_ultralytics(ultralytics_result)\n",
    "    targets.append(gt_detection)\n",
    "    predictions.append(sv_detection)\n",
    "\n",
    "print(len(targets), len(predictions))"
   ]
  },
  {
   "cell_type": "code",
   "execution_count": null,
   "metadata": {},
   "outputs": [
    {
     "name": "stdout",
     "output_type": "stream",
     "text": [
      "====================================================================================================\n",
      "Class-specific mAP\n",
      "====================================================================================================\n",
      "Matched classes: [1, 2]\n",
      "mAP 50:95: 0.13306547591737805, mAP 50: 0.27201341208373325, mAP 75: 0.11360759099423645\n",
      "cls: 1, mAP: 0.006928771879266929\n",
      "cls: 2, mAP: 0.5370980522881996\n",
      "====================================================================================================\n",
      "Class-agnostic mAP\n",
      "====================================================================================================\n",
      "CA mAP 50:95: 0.28528718735757413, CA mAP 50: 0.5797422139829569, CA mAP 75: 0.24307560107981813\n"
     ]
    }
   ],
   "source": [
    "## mAP calculation (non-class agnostic)\n",
    "print (100 * \"=\")\n",
    "print(\"Class-specific mAP\")\n",
    "print (100 * \"=\")\n",
    "mAP_metric = MeanAveragePrecision(class_agnostic=False)\n",
    "mAP_result=mAP_metric.update(predictions,targets).compute()\n",
    "matched_classes=mAP_result.matched_classes.tolist()\n",
    "print(f\"Matched classes: {matched_classes}\")\n",
    "\n",
    "# Extract mAP values\n",
    "mAP_50_95 = mAP_result.map50_95  # mAP 50:95\n",
    "mAP_50 = mAP_result.map50  # mAP 50\n",
    "mAP_75 = mAP_result.map75  # mAP 75\n",
    "print(f\"mAP 50:95: {mAP_50_95}, mAP 50: {mAP_50}, mAP 75: {mAP_75}\")\n",
    "\n",
    "# Extract class-wise mAP values\n",
    "num_classes=3\n",
    "final_class_wise_mAP = [0]*num_classes\n",
    "class_wise_mAP=mAP_result.ap_per_class[:,0].tolist()\n",
    "for cls, mAP in zip(matched_classes, class_wise_mAP):\n",
    "    print(f\"cls: {cls}, mAP: {mAP}\")\n",
    "    final_class_wise_mAP[cls] = mAP\n",
    "\n",
    "# Compute class-agnostic mAP\n",
    "print (100 * \"=\")\n",
    "print(\"Class-agnostic mAP\")\n",
    "print (100 * \"=\")\n",
    "mAP_metric_agnostic = MeanAveragePrecision(class_agnostic=True)\n",
    "mAP_result_agnostic = mAP_metric_agnostic.update(predictions, targets).compute()\n",
    "# Extract class-agnostic mAP values\n",
    "mAP_50_95_agnostic = mAP_result_agnostic.map50_95  # mAP 50:95\n",
    "mAP_50_agnostic = mAP_result_agnostic.map50  # mAP 50\n",
    "mAP_75_agnostic = mAP_result_agnostic.map75  # mAP 75\n",
    "print(f\"CA mAP 50:95: {mAP_50_95_agnostic}, CA mAP 50: {mAP_50_agnostic}, CA mAP 75: {mAP_75_agnostic}\")"
   ]
  },
  {
   "cell_type": "code",
   "execution_count": 80,
   "metadata": {},
   "outputs": [
    {
     "data": {
      "text/html": [
       "<style type=\"text/css\">\n",
       "</style>\n",
       "<table id=\"T_09d09\">\n",
       "  <thead>\n",
       "    <tr>\n",
       "      <th id=\"T_09d09_level0_col0\" class=\"col_heading level0 col0\" >Model</th>\n",
       "      <th id=\"T_09d09_level0_col1\" class=\"col_heading level0 col1\" >CFCBK</th>\n",
       "      <th id=\"T_09d09_level0_col2\" class=\"col_heading level0 col2\" >FCBK</th>\n",
       "      <th id=\"T_09d09_level0_col3\" class=\"col_heading level0 col3\" >Zigzag</th>\n",
       "      <th id=\"T_09d09_level0_col4\" class=\"col_heading level0 col4\" >Class-agnostic AP</th>\n",
       "    </tr>\n",
       "  </thead>\n",
       "  <tbody>\n",
       "    <tr>\n",
       "      <td id=\"T_09d09_row0_col0\" class=\"data row0 col0\" >Thera WB to Test Delhi</td>\n",
       "      <td id=\"T_09d09_row0_col1\" class=\"data row0 col1\" >0</td>\n",
       "      <td id=\"T_09d09_row0_col2\" class=\"data row0 col2\" >0.006929</td>\n",
       "      <td id=\"T_09d09_row0_col3\" class=\"data row0 col3\" >0.537098</td>\n",
       "      <td id=\"T_09d09_row0_col4\" class=\"data row0 col4\" >0.579742</td>\n",
       "    </tr>\n",
       "  </tbody>\n",
       "</table>\n"
      ],
      "text/plain": [
       "<pandas.io.formats.style.Styler at 0x7f89b54287a0>"
      ]
     },
     "metadata": {},
     "output_type": "display_data"
    }
   ],
   "source": [
    "columns=[\"Model\",\"CFCBK\", \"FCBK\", \"Zigzag\", \"Class-agnostic AP\"]\n",
    "result_df = pd.DataFrame(columns=columns)\n",
    "new_row = [experiment] + final_class_wise_mAP + [mAP_50_agnostic]\n",
    "result_df.loc[len(result_df)] = new_row  # Using loc to add the row\n",
    "\n",
    "# Display DataFrame\n",
    "display(result_df.style.hide(axis=\"index\"))"
   ]
  },
  {
   "cell_type": "code",
   "execution_count": 81,
   "metadata": {},
   "outputs": [],
   "source": [
    "# result_df.to_csv(result_df_path, index=False)"
   ]
  },
  {
   "cell_type": "code",
   "execution_count": 82,
   "metadata": {},
   "outputs": [],
   "source": [
    "# # Save DataFrame    \n",
    "# result=pd.read_csv(result_df_path)\n",
    "# result=result.reset_index(drop=True)\n",
    "# result = pd.concat([result, result_df], ignore_index=True)\n",
    "# display(result.style.hide(axis=\"index\"))\n",
    "# result.to_csv(result_df_path, index=False)"
   ]
  },
  {
   "cell_type": "code",
   "execution_count": 83,
   "metadata": {},
   "outputs": [
    {
     "data": {
      "text/html": [
       "<style type=\"text/css\">\n",
       "</style>\n",
       "<table id=\"T_66bca\">\n",
       "  <thead>\n",
       "    <tr>\n",
       "      <th id=\"T_66bca_level0_col0\" class=\"col_heading level0 col0\" >Model</th>\n",
       "      <th id=\"T_66bca_level0_col1\" class=\"col_heading level0 col1\" >CFCBK</th>\n",
       "      <th id=\"T_66bca_level0_col2\" class=\"col_heading level0 col2\" >FCBK</th>\n",
       "      <th id=\"T_66bca_level0_col3\" class=\"col_heading level0 col3\" >Zigzag</th>\n",
       "      <th id=\"T_66bca_level0_col4\" class=\"col_heading level0 col4\" >Class-agnostic AP</th>\n",
       "    </tr>\n",
       "  </thead>\n",
       "  <tbody>\n",
       "    <tr>\n",
       "      <td id=\"T_66bca_row0_col0\" class=\"data row0 col0\" >Thera Bihar to Test Bihar</td>\n",
       "      <td id=\"T_66bca_row0_col1\" class=\"data row0 col1\" >0.556943</td>\n",
       "      <td id=\"T_66bca_row0_col2\" class=\"data row0 col2\" >0.070856</td>\n",
       "      <td id=\"T_66bca_row0_col3\" class=\"data row0 col3\" >0.611096</td>\n",
       "      <td id=\"T_66bca_row0_col4\" class=\"data row0 col4\" >0.610538</td>\n",
       "    </tr>\n",
       "    <tr>\n",
       "      <td id=\"T_66bca_row1_col0\" class=\"data row1 col0\" >Thera Haryana to Test Bihar</td>\n",
       "      <td id=\"T_66bca_row1_col1\" class=\"data row1 col1\" >0.000000</td>\n",
       "      <td id=\"T_66bca_row1_col2\" class=\"data row1 col2\" >0.010772</td>\n",
       "      <td id=\"T_66bca_row1_col3\" class=\"data row1 col3\" >0.469715</td>\n",
       "      <td id=\"T_66bca_row1_col4\" class=\"data row1 col4\" >0.475909</td>\n",
       "    </tr>\n",
       "    <tr>\n",
       "      <td id=\"T_66bca_row2_col0\" class=\"data row2 col0\" >Thera Delhi to Test WB</td>\n",
       "      <td id=\"T_66bca_row2_col1\" class=\"data row2 col1\" >0.000000</td>\n",
       "      <td id=\"T_66bca_row2_col2\" class=\"data row2 col2\" >0.097932</td>\n",
       "      <td id=\"T_66bca_row2_col3\" class=\"data row2 col3\" >0.315038</td>\n",
       "      <td id=\"T_66bca_row2_col4\" class=\"data row2 col4\" >0.305967</td>\n",
       "    </tr>\n",
       "    <tr>\n",
       "      <td id=\"T_66bca_row3_col0\" class=\"data row3 col0\" >Thera WB to Test Delhi</td>\n",
       "      <td id=\"T_66bca_row3_col1\" class=\"data row3 col1\" >0.000000</td>\n",
       "      <td id=\"T_66bca_row3_col2\" class=\"data row3 col2\" >0.006929</td>\n",
       "      <td id=\"T_66bca_row3_col3\" class=\"data row3 col3\" >0.537098</td>\n",
       "      <td id=\"T_66bca_row3_col4\" class=\"data row3 col4\" >0.579742</td>\n",
       "    </tr>\n",
       "  </tbody>\n",
       "</table>\n"
      ],
      "text/plain": [
       "<pandas.io.formats.style.Styler at 0x7f89b0207230>"
      ]
     },
     "metadata": {},
     "output_type": "display_data"
    }
   ],
   "source": [
    "result=pd.read_csv(result_df_path)\n",
    "display(result.style.hide(axis=\"index\"))"
   ]
  },
  {
   "cell_type": "code",
   "execution_count": 84,
   "metadata": {},
   "outputs": [
    {
     "data": {
      "text/html": [
       "<style type=\"text/css\">\n",
       "</style>\n",
       "<table id=\"T_ffb67\">\n",
       "  <thead>\n",
       "    <tr>\n",
       "      <th id=\"T_ffb67_level0_col0\" class=\"col_heading level0 col0\" >Model</th>\n",
       "      <th id=\"T_ffb67_level0_col1\" class=\"col_heading level0 col1\" >Class-agnostic AP</th>\n",
       "    </tr>\n",
       "  </thead>\n",
       "  <tbody>\n",
       "    <tr>\n",
       "      <td id=\"T_ffb67_row0_col0\" class=\"data row0 col0\" >Thera Bihar to Test Bihar</td>\n",
       "      <td id=\"T_ffb67_row0_col1\" class=\"data row0 col1\" >0.610538</td>\n",
       "    </tr>\n",
       "    <tr>\n",
       "      <td id=\"T_ffb67_row1_col0\" class=\"data row1 col0\" >Thera Haryana to Test Bihar</td>\n",
       "      <td id=\"T_ffb67_row1_col1\" class=\"data row1 col1\" >0.475909</td>\n",
       "    </tr>\n",
       "    <tr>\n",
       "      <td id=\"T_ffb67_row2_col0\" class=\"data row2 col0\" >Thera Delhi to Test WB</td>\n",
       "      <td id=\"T_ffb67_row2_col1\" class=\"data row2 col1\" >0.305967</td>\n",
       "    </tr>\n",
       "    <tr>\n",
       "      <td id=\"T_ffb67_row3_col0\" class=\"data row3 col0\" >Thera WB to Test Delhi</td>\n",
       "      <td id=\"T_ffb67_row3_col1\" class=\"data row3 col1\" >0.579742</td>\n",
       "    </tr>\n",
       "  </tbody>\n",
       "</table>\n"
      ],
      "text/plain": [
       "<pandas.io.formats.style.Styler at 0x7f89b4ac3ec0>"
      ]
     },
     "metadata": {},
     "output_type": "display_data"
    }
   ],
   "source": [
    "result=pd.read_csv(result_df_path)\n",
    "result = result.iloc[:, [0, -1]]\n",
    "display(result.style.hide(axis=\"index\"))"
   ]
  },
  {
   "cell_type": "code",
   "execution_count": null,
   "metadata": {},
   "outputs": [],
   "source": []
  },
  {
   "cell_type": "code",
   "execution_count": null,
   "metadata": {},
   "outputs": [],
   "source": []
  }
 ],
 "metadata": {
  "kernelspec": {
   "display_name": "supervision",
   "language": "python",
   "name": "python3"
  },
  "language_info": {
   "codemirror_mode": {
    "name": "ipython",
    "version": 3
   },
   "file_extension": ".py",
   "mimetype": "text/x-python",
   "name": "python",
   "nbconvert_exporter": "python",
   "pygments_lexer": "ipython3",
   "version": "3.12.4"
  }
 },
 "nbformat": 4,
 "nbformat_minor": 2
}
