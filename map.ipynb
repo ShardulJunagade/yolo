{
 "cells": [
  {
   "cell_type": "code",
   "execution_count": 1,
   "metadata": {},
   "outputs": [
    {
     "name": "stdout",
     "output_type": "stream",
     "text": [
      "Defaulting to user installation because normal site-packages is not writeable\n",
      "Requirement already satisfied: tqdm in /home/shardul.junagade/.local/lib/python3.12/site-packages (4.67.1)\n",
      "Requirement already satisfied: ultralytics in /home/shardul.junagade/.local/lib/python3.12/site-packages (8.3.107)\n",
      "Requirement already satisfied: numpy<=2.1.1,>=1.23.0 in /opt/anaconda3/envs/supervision/lib/python3.12/site-packages (from ultralytics) (1.26.4)\n",
      "Requirement already satisfied: matplotlib>=3.3.0 in /opt/anaconda3/envs/supervision/lib/python3.12/site-packages (from ultralytics) (3.7.5)\n",
      "Requirement already satisfied: opencv-python>=4.6.0 in /opt/anaconda3/envs/supervision/lib/python3.12/site-packages (from ultralytics) (4.10.0.84)\n",
      "Requirement already satisfied: pillow>=7.1.2 in /opt/anaconda3/envs/supervision/lib/python3.12/site-packages (from ultralytics) (10.4.0)\n",
      "Requirement already satisfied: pyyaml>=5.3.1 in /opt/anaconda3/envs/supervision/lib/python3.12/site-packages (from ultralytics) (6.0.2)\n",
      "Requirement already satisfied: requests>=2.23.0 in /opt/anaconda3/envs/supervision/lib/python3.12/site-packages (from ultralytics) (2.32.3)\n",
      "Requirement already satisfied: scipy>=1.4.1 in /opt/anaconda3/envs/supervision/lib/python3.12/site-packages (from ultralytics) (1.13.1)\n",
      "Requirement already satisfied: torch>=1.8.0 in /home/shardul.junagade/.local/lib/python3.12/site-packages (from ultralytics) (2.6.0)\n",
      "Requirement already satisfied: torchvision>=0.9.0 in /home/shardul.junagade/.local/lib/python3.12/site-packages (from ultralytics) (0.21.0)\n",
      "Requirement already satisfied: psutil in /home/shardul.junagade/.local/lib/python3.12/site-packages (from ultralytics) (7.0.0)\n",
      "Requirement already satisfied: py-cpuinfo in /home/shardul.junagade/.local/lib/python3.12/site-packages (from ultralytics) (9.0.0)\n",
      "Requirement already satisfied: pandas>=1.1.4 in /opt/anaconda3/envs/supervision/lib/python3.12/site-packages (from ultralytics) (2.2.2)\n",
      "Requirement already satisfied: seaborn>=0.11.0 in /home/shardul.junagade/.local/lib/python3.12/site-packages (from ultralytics) (0.13.2)\n",
      "Requirement already satisfied: ultralytics-thop>=2.0.0 in /home/shardul.junagade/.local/lib/python3.12/site-packages (from ultralytics) (2.0.14)\n",
      "Requirement already satisfied: contourpy>=1.0.1 in /opt/anaconda3/envs/supervision/lib/python3.12/site-packages (from matplotlib>=3.3.0->ultralytics) (1.1.1)\n",
      "Requirement already satisfied: cycler>=0.10 in /opt/anaconda3/envs/supervision/lib/python3.12/site-packages (from matplotlib>=3.3.0->ultralytics) (0.12.1)\n",
      "Requirement already satisfied: fonttools>=4.22.0 in /opt/anaconda3/envs/supervision/lib/python3.12/site-packages (from matplotlib>=3.3.0->ultralytics) (4.53.1)\n",
      "Requirement already satisfied: kiwisolver>=1.0.1 in /opt/anaconda3/envs/supervision/lib/python3.12/site-packages (from matplotlib>=3.3.0->ultralytics) (1.4.5)\n",
      "Requirement already satisfied: packaging>=20.0 in /opt/anaconda3/envs/supervision/lib/python3.12/site-packages (from matplotlib>=3.3.0->ultralytics) (24.1)\n",
      "Requirement already satisfied: pyparsing>=2.3.1 in /opt/anaconda3/envs/supervision/lib/python3.12/site-packages (from matplotlib>=3.3.0->ultralytics) (3.1.2)\n",
      "Requirement already satisfied: python-dateutil>=2.7 in /home/shardul.junagade/.local/lib/python3.12/site-packages (from matplotlib>=3.3.0->ultralytics) (2.9.0.post0)\n",
      "Requirement already satisfied: pytz>=2020.1 in /opt/anaconda3/envs/supervision/lib/python3.12/site-packages (from pandas>=1.1.4->ultralytics) (2024.1)\n",
      "Requirement already satisfied: tzdata>=2022.7 in /opt/anaconda3/envs/supervision/lib/python3.12/site-packages (from pandas>=1.1.4->ultralytics) (2024.1)\n",
      "Requirement already satisfied: charset-normalizer<4,>=2 in /opt/anaconda3/envs/supervision/lib/python3.12/site-packages (from requests>=2.23.0->ultralytics) (3.3.2)\n",
      "Requirement already satisfied: idna<4,>=2.5 in /opt/anaconda3/envs/supervision/lib/python3.12/site-packages (from requests>=2.23.0->ultralytics) (3.7)\n",
      "Requirement already satisfied: urllib3<3,>=1.21.1 in /opt/anaconda3/envs/supervision/lib/python3.12/site-packages (from requests>=2.23.0->ultralytics) (2.2.2)\n",
      "Requirement already satisfied: certifi>=2017.4.17 in /opt/anaconda3/envs/supervision/lib/python3.12/site-packages (from requests>=2.23.0->ultralytics) (2024.7.4)\n",
      "Requirement already satisfied: filelock in /opt/anaconda3/envs/supervision/lib/python3.12/site-packages (from torch>=1.8.0->ultralytics) (3.15.4)\n",
      "Requirement already satisfied: typing-extensions>=4.10.0 in /opt/anaconda3/envs/supervision/lib/python3.12/site-packages (from torch>=1.8.0->ultralytics) (4.12.2)\n",
      "Requirement already satisfied: networkx in /home/shardul.junagade/.local/lib/python3.12/site-packages (from torch>=1.8.0->ultralytics) (3.4.2)\n",
      "Requirement already satisfied: jinja2 in /opt/anaconda3/envs/supervision/lib/python3.12/site-packages (from torch>=1.8.0->ultralytics) (3.1.4)\n",
      "Requirement already satisfied: fsspec in /opt/anaconda3/envs/supervision/lib/python3.12/site-packages (from torch>=1.8.0->ultralytics) (2024.9.0)\n",
      "Requirement already satisfied: nvidia-cuda-nvrtc-cu12==12.4.127 in /home/shardul.junagade/.local/lib/python3.12/site-packages (from torch>=1.8.0->ultralytics) (12.4.127)\n",
      "Requirement already satisfied: nvidia-cuda-runtime-cu12==12.4.127 in /home/shardul.junagade/.local/lib/python3.12/site-packages (from torch>=1.8.0->ultralytics) (12.4.127)\n",
      "Requirement already satisfied: nvidia-cuda-cupti-cu12==12.4.127 in /home/shardul.junagade/.local/lib/python3.12/site-packages (from torch>=1.8.0->ultralytics) (12.4.127)\n",
      "Requirement already satisfied: nvidia-cudnn-cu12==9.1.0.70 in /home/shardul.junagade/.local/lib/python3.12/site-packages (from torch>=1.8.0->ultralytics) (9.1.0.70)\n",
      "Requirement already satisfied: nvidia-cublas-cu12==12.4.5.8 in /home/shardul.junagade/.local/lib/python3.12/site-packages (from torch>=1.8.0->ultralytics) (12.4.5.8)\n",
      "Requirement already satisfied: nvidia-cufft-cu12==11.2.1.3 in /home/shardul.junagade/.local/lib/python3.12/site-packages (from torch>=1.8.0->ultralytics) (11.2.1.3)\n",
      "Requirement already satisfied: nvidia-curand-cu12==10.3.5.147 in /home/shardul.junagade/.local/lib/python3.12/site-packages (from torch>=1.8.0->ultralytics) (10.3.5.147)\n",
      "Requirement already satisfied: nvidia-cusolver-cu12==11.6.1.9 in /home/shardul.junagade/.local/lib/python3.12/site-packages (from torch>=1.8.0->ultralytics) (11.6.1.9)\n",
      "Requirement already satisfied: nvidia-cusparse-cu12==12.3.1.170 in /home/shardul.junagade/.local/lib/python3.12/site-packages (from torch>=1.8.0->ultralytics) (12.3.1.170)\n",
      "Requirement already satisfied: nvidia-cusparselt-cu12==0.6.2 in /home/shardul.junagade/.local/lib/python3.12/site-packages (from torch>=1.8.0->ultralytics) (0.6.2)\n",
      "Requirement already satisfied: nvidia-nccl-cu12==2.21.5 in /home/shardul.junagade/.local/lib/python3.12/site-packages (from torch>=1.8.0->ultralytics) (2.21.5)\n",
      "Requirement already satisfied: nvidia-nvtx-cu12==12.4.127 in /home/shardul.junagade/.local/lib/python3.12/site-packages (from torch>=1.8.0->ultralytics) (12.4.127)\n",
      "Requirement already satisfied: nvidia-nvjitlink-cu12==12.4.127 in /home/shardul.junagade/.local/lib/python3.12/site-packages (from torch>=1.8.0->ultralytics) (12.4.127)\n",
      "Requirement already satisfied: triton==3.2.0 in /home/shardul.junagade/.local/lib/python3.12/site-packages (from torch>=1.8.0->ultralytics) (3.2.0)\n",
      "Requirement already satisfied: setuptools in /opt/anaconda3/envs/supervision/lib/python3.12/site-packages (from torch>=1.8.0->ultralytics) (73.0.1)\n",
      "Requirement already satisfied: sympy==1.13.1 in /home/shardul.junagade/.local/lib/python3.12/site-packages (from torch>=1.8.0->ultralytics) (1.13.1)\n",
      "Requirement already satisfied: mpmath<1.4,>=1.1.0 in /home/shardul.junagade/.local/lib/python3.12/site-packages (from sympy==1.13.1->torch>=1.8.0->ultralytics) (1.3.0)\n",
      "Requirement already satisfied: six>=1.5 in /home/shardul.junagade/.local/lib/python3.12/site-packages (from python-dateutil>=2.7->matplotlib>=3.3.0->ultralytics) (1.17.0)\n",
      "Requirement already satisfied: MarkupSafe>=2.0 in /opt/anaconda3/envs/supervision/lib/python3.12/site-packages (from jinja2->torch>=1.8.0->ultralytics) (2.1.5)\n"
     ]
    }
   ],
   "source": [
    "!pip install tqdm ultralytics"
   ]
  },
  {
   "cell_type": "code",
   "execution_count": 2,
   "metadata": {},
   "outputs": [],
   "source": [
    "import pandas as pd\n",
    "from tqdm.notebook import tqdm\n",
    "from os.path import basename, splitext\n",
    "import supervision as sv\n",
    "from supervision.metrics import MeanAveragePrecision\n",
    "from tempfile import mkdtemp\n",
    "from ultralytics import YOLO\n",
    "import os\n",
    "os.environ[\"CUDA_VISIBLE_DEVICES\"] = \"0\"  # Set GPU"
   ]
  },
  {
   "cell_type": "code",
   "execution_count": 3,
   "metadata": {},
   "outputs": [],
   "source": [
    "# Path to CSV\n",
    "result_df_path='/home/shardul.junagade/my-work/domain-adaptation-brick-kilns/map/bihar.csv'\n",
    "\n",
    "# Load trained YOLO model\n",
    "model = YOLO(\"/home/shardul.junagade/my-work/domain-adaptation-brick-kilns/yolo/models/yolo11m-obb-bihar-to-bihar/weights/best.pt\")\n",
    "\n",
    "# Name of the experiment\n",
    "experiment=\"Thera Bihar to Test Bihar\"\n",
    "\n",
    "# GT\n",
    "gt=\"/home/shardul.junagade/my-work/domain-adaptation-brick-kilns/data/thera_rdn_pro/test_bihar_4x\""
   ]
  },
  {
   "cell_type": "code",
   "execution_count": 4,
   "metadata": {},
   "outputs": [
    {
     "name": "stdout",
     "output_type": "stream",
     "text": [
      "Number of images in GT: 687\n",
      "Loaded dataset: 687 images\n"
     ]
    },
    {
     "data": {
      "application/vnd.jupyter.widget-view+json": {
       "model_id": "f9e72bbd67014c0eb80a046e137d69ff",
       "version_major": 2,
       "version_minor": 0
      },
      "text/plain": [
       "  0%|          | 0/687 [00:00<?, ?it/s]"
      ]
     },
     "metadata": {},
     "output_type": "display_data"
    },
    {
     "name": "stdout",
     "output_type": "stream",
     "text": [
      "687 687\n"
     ]
    }
   ],
   "source": [
    "# Class information in YAML file\n",
    "data_yml_save_path = mkdtemp()\n",
    "data_yml = \"\"\"train: dummy\n",
    "val: dummy\n",
    "nc: 3\n",
    "names: [\"CFCBK\", \"FCBK\", \"Zigzag\"]\n",
    "\"\"\"\n",
    "data_yml_path = f\"{data_yml_save_path}/data.yml\"\n",
    "with open(data_yml_path, \"w\") as f:\n",
    "    f.write(data_yml)\n",
    "\n",
    "# GT directories\n",
    "gt_image_dir = gt+\"/images\"\n",
    "gt_label_dir = gt+\"/labels\"\n",
    "print(f\"Number of images in GT: {len(os.listdir(gt_image_dir))}\")\n",
    "\n",
    "# Supervision dataset\n",
    "sv_dataset = sv.DetectionDataset.from_yolo(gt_image_dir, gt_label_dir, data_yml_path)\n",
    "print(f\"Loaded dataset: {len(sv_dataset)} images\")\n",
    "\n",
    "# Initialize lists for predictions and targets\n",
    "targets = []\n",
    "predictions = []\n",
    "\n",
    "# Iterate over the dataset and make predictions\n",
    "for name,_,gt_detection in tqdm(sv_dataset):\n",
    "    file_name=splitext(basename(name))[0]\n",
    "    # prediction_path=join(prediction_dir,f\"{file_name}.txt\")\n",
    "    ultralytics_result=model(name,imgsz=2560,iou=0.33,conf=0.001,exist_ok=True,save_txt=False,max_det=300, verbose=False)[0]\n",
    "    sv_detection=sv.Detections.from_ultralytics(ultralytics_result)\n",
    "    targets.append(gt_detection)\n",
    "    predictions.append(sv_detection)\n",
    "\n",
    "print(len(targets), len(predictions))"
   ]
  },
  {
   "cell_type": "code",
   "execution_count": 5,
   "metadata": {},
   "outputs": [
    {
     "name": "stdout",
     "output_type": "stream",
     "text": [
      "====================================================================================================\n",
      "Class-specific mAP\n",
      "====================================================================================================\n",
      "Matched classes: [0, 1, 2]\n",
      "mAP 50:95: 0.3024563476970552, mAP 50: 0.4707268075893956, mAP 75: 0.3620919870183279\n",
      "cls: 0, mAP: 0.6443132774815943\n",
      "cls: 1, mAP: 0.06455290802900521\n",
      "cls: 2, mAP: 0.7033142372575872\n",
      "====================================================================================================\n",
      "Class-agnostic mAP\n",
      "====================================================================================================\n",
      "CA mAP 50:95: 0.45870646398779813, CA mAP 50: 0.700746197729938, CA mAP 75: 0.5565139814530881\n"
     ]
    }
   ],
   "source": [
    "## mAP calculation (non-class agnostic)\n",
    "print (100 * \"=\")\n",
    "print(\"Class-specific mAP\")\n",
    "print (100 * \"=\")\n",
    "mAP_metric = MeanAveragePrecision(class_agnostic=False)\n",
    "mAP_result=mAP_metric.update(predictions,targets).compute()\n",
    "matched_classes=mAP_result.matched_classes.tolist()\n",
    "print(f\"Matched classes: {matched_classes}\")\n",
    "\n",
    "# Extract mAP values\n",
    "mAP_50_95 = mAP_result.map50_95  # mAP 50:95\n",
    "mAP_50 = mAP_result.map50  # mAP 50\n",
    "mAP_75 = mAP_result.map75  # mAP 75\n",
    "print(f\"mAP 50:95: {mAP_50_95}, mAP 50: {mAP_50}, mAP 75: {mAP_75}\")\n",
    "\n",
    "# Extract class-wise mAP values\n",
    "num_classes=3\n",
    "final_class_wise_mAP = [0]*num_classes\n",
    "class_wise_mAP=mAP_result.ap_per_class[:,0].tolist()\n",
    "for cls, mAP in zip(matched_classes, class_wise_mAP):\n",
    "    print(f\"cls: {cls}, mAP: {mAP}\")\n",
    "    final_class_wise_mAP[cls] = mAP\n",
    "\n",
    "# Compute class-agnostic mAP\n",
    "print (100 * \"=\")\n",
    "print(\"Class-agnostic mAP\")\n",
    "print (100 * \"=\")\n",
    "mAP_metric_agnostic = MeanAveragePrecision(class_agnostic=True)\n",
    "mAP_result_agnostic = mAP_metric_agnostic.update(predictions, targets).compute()\n",
    "# Extract class-agnostic mAP values\n",
    "mAP_50_95_agnostic = mAP_result_agnostic.map50_95  # mAP 50:95\n",
    "mAP_50_agnostic = mAP_result_agnostic.map50  # mAP 50\n",
    "mAP_75_agnostic = mAP_result_agnostic.map75  # mAP 75\n",
    "print(f\"CA mAP 50:95: {mAP_50_95_agnostic}, CA mAP 50: {mAP_50_agnostic}, CA mAP 75: {mAP_75_agnostic}\")"
   ]
  },
  {
   "cell_type": "code",
   "execution_count": 6,
   "metadata": {},
   "outputs": [
    {
     "data": {
      "text/html": [
       "<style type=\"text/css\">\n",
       "</style>\n",
       "<table id=\"T_d46cb\">\n",
       "  <thead>\n",
       "    <tr>\n",
       "      <th id=\"T_d46cb_level0_col0\" class=\"col_heading level0 col0\" >Model</th>\n",
       "      <th id=\"T_d46cb_level0_col1\" class=\"col_heading level0 col1\" >CFCBK</th>\n",
       "      <th id=\"T_d46cb_level0_col2\" class=\"col_heading level0 col2\" >FCBK</th>\n",
       "      <th id=\"T_d46cb_level0_col3\" class=\"col_heading level0 col3\" >Zigzag</th>\n",
       "      <th id=\"T_d46cb_level0_col4\" class=\"col_heading level0 col4\" >Class-agnostic AP</th>\n",
       "    </tr>\n",
       "  </thead>\n",
       "  <tbody>\n",
       "    <tr>\n",
       "      <td id=\"T_d46cb_row0_col0\" class=\"data row0 col0\" >Thera Bihar to Test Bihar</td>\n",
       "      <td id=\"T_d46cb_row0_col1\" class=\"data row0 col1\" >0.644313</td>\n",
       "      <td id=\"T_d46cb_row0_col2\" class=\"data row0 col2\" >0.064553</td>\n",
       "      <td id=\"T_d46cb_row0_col3\" class=\"data row0 col3\" >0.703314</td>\n",
       "      <td id=\"T_d46cb_row0_col4\" class=\"data row0 col4\" >0.700746</td>\n",
       "    </tr>\n",
       "  </tbody>\n",
       "</table>\n"
      ],
      "text/plain": [
       "<pandas.io.formats.style.Styler at 0x7f1f41f660f0>"
      ]
     },
     "metadata": {},
     "output_type": "display_data"
    }
   ],
   "source": [
    "columns=[\"Model\",\"CFCBK\", \"FCBK\", \"Zigzag\", \"Class-agnostic AP\"]\n",
    "result_df = pd.DataFrame(columns=columns)\n",
    "new_row = [experiment] + final_class_wise_mAP + [mAP_50_agnostic]\n",
    "result_df.loc[len(result_df)] = new_row  # Using loc to add the row\n",
    "\n",
    "# Display DataFrame\n",
    "display(result_df.style.hide(axis=\"index\"))"
   ]
  },
  {
   "cell_type": "code",
   "execution_count": 9,
   "metadata": {},
   "outputs": [],
   "source": [
    "result_df.to_csv(result_df_path, index=False)"
   ]
  },
  {
   "cell_type": "code",
   "execution_count": 10,
   "metadata": {},
   "outputs": [
    {
     "data": {
      "text/html": [
       "<style type=\"text/css\">\n",
       "</style>\n",
       "<table id=\"T_9e0cf\">\n",
       "  <thead>\n",
       "    <tr>\n",
       "      <th id=\"T_9e0cf_level0_col0\" class=\"col_heading level0 col0\" >Model</th>\n",
       "      <th id=\"T_9e0cf_level0_col1\" class=\"col_heading level0 col1\" >CFCBK</th>\n",
       "      <th id=\"T_9e0cf_level0_col2\" class=\"col_heading level0 col2\" >FCBK</th>\n",
       "      <th id=\"T_9e0cf_level0_col3\" class=\"col_heading level0 col3\" >Zigzag</th>\n",
       "      <th id=\"T_9e0cf_level0_col4\" class=\"col_heading level0 col4\" >Class-agnostic AP</th>\n",
       "    </tr>\n",
       "  </thead>\n",
       "  <tbody>\n",
       "    <tr>\n",
       "      <td id=\"T_9e0cf_row0_col0\" class=\"data row0 col0\" >Thera Bihar to Test Bihar</td>\n",
       "      <td id=\"T_9e0cf_row0_col1\" class=\"data row0 col1\" >0.644313</td>\n",
       "      <td id=\"T_9e0cf_row0_col2\" class=\"data row0 col2\" >0.064553</td>\n",
       "      <td id=\"T_9e0cf_row0_col3\" class=\"data row0 col3\" >0.703314</td>\n",
       "      <td id=\"T_9e0cf_row0_col4\" class=\"data row0 col4\" >0.700746</td>\n",
       "    </tr>\n",
       "    <tr>\n",
       "      <td id=\"T_9e0cf_row1_col0\" class=\"data row1 col0\" >Thera Bihar to Test Bihar</td>\n",
       "      <td id=\"T_9e0cf_row1_col1\" class=\"data row1 col1\" >0.644313</td>\n",
       "      <td id=\"T_9e0cf_row1_col2\" class=\"data row1 col2\" >0.064553</td>\n",
       "      <td id=\"T_9e0cf_row1_col3\" class=\"data row1 col3\" >0.703314</td>\n",
       "      <td id=\"T_9e0cf_row1_col4\" class=\"data row1 col4\" >0.700746</td>\n",
       "    </tr>\n",
       "  </tbody>\n",
       "</table>\n"
      ],
      "text/plain": [
       "<pandas.io.formats.style.Styler at 0x7f1f4a2b9c70>"
      ]
     },
     "metadata": {},
     "output_type": "display_data"
    }
   ],
   "source": [
    "# Save DataFrame\n",
    "result=pd.read_csv(result_df_path)\n",
    "result=result.reset_index(drop=True)\n",
    "result = pd.concat([result, result_df], ignore_index=True)\n",
    "display(result.style.hide(axis=\"index\"))\n",
    "result.to_csv(result_df_path, index=False)"
   ]
  },
  {
   "cell_type": "code",
   "execution_count": 11,
   "metadata": {},
   "outputs": [
    {
     "data": {
      "text/html": [
       "<style type=\"text/css\">\n",
       "</style>\n",
       "<table id=\"T_ddb4f\">\n",
       "  <thead>\n",
       "    <tr>\n",
       "      <th id=\"T_ddb4f_level0_col0\" class=\"col_heading level0 col0\" >Model</th>\n",
       "      <th id=\"T_ddb4f_level0_col1\" class=\"col_heading level0 col1\" >CFCBK</th>\n",
       "      <th id=\"T_ddb4f_level0_col2\" class=\"col_heading level0 col2\" >FCBK</th>\n",
       "      <th id=\"T_ddb4f_level0_col3\" class=\"col_heading level0 col3\" >Zigzag</th>\n",
       "      <th id=\"T_ddb4f_level0_col4\" class=\"col_heading level0 col4\" >Class-agnostic AP</th>\n",
       "    </tr>\n",
       "  </thead>\n",
       "  <tbody>\n",
       "    <tr>\n",
       "      <td id=\"T_ddb4f_row0_col0\" class=\"data row0 col0\" >Thera Bihar to Test Bihar</td>\n",
       "      <td id=\"T_ddb4f_row0_col1\" class=\"data row0 col1\" >0.644313</td>\n",
       "      <td id=\"T_ddb4f_row0_col2\" class=\"data row0 col2\" >0.064553</td>\n",
       "      <td id=\"T_ddb4f_row0_col3\" class=\"data row0 col3\" >0.703314</td>\n",
       "      <td id=\"T_ddb4f_row0_col4\" class=\"data row0 col4\" >0.700746</td>\n",
       "    </tr>\n",
       "    <tr>\n",
       "      <td id=\"T_ddb4f_row1_col0\" class=\"data row1 col0\" >Thera Bihar to Test Bihar</td>\n",
       "      <td id=\"T_ddb4f_row1_col1\" class=\"data row1 col1\" >0.644313</td>\n",
       "      <td id=\"T_ddb4f_row1_col2\" class=\"data row1 col2\" >0.064553</td>\n",
       "      <td id=\"T_ddb4f_row1_col3\" class=\"data row1 col3\" >0.703314</td>\n",
       "      <td id=\"T_ddb4f_row1_col4\" class=\"data row1 col4\" >0.700746</td>\n",
       "    </tr>\n",
       "  </tbody>\n",
       "</table>\n"
      ],
      "text/plain": [
       "<pandas.io.formats.style.Styler at 0x7f1f4a1f8800>"
      ]
     },
     "metadata": {},
     "output_type": "display_data"
    }
   ],
   "source": [
    "result=pd.read_csv(result_df_path)\n",
    "display(result.style.hide(axis=\"index\"))"
   ]
  },
  {
   "cell_type": "code",
   "execution_count": null,
   "metadata": {},
   "outputs": [
    {
     "data": {
      "text/html": [
       "<style type=\"text/css\">\n",
       "</style>\n",
       "<table id=\"T_6beaf\">\n",
       "  <thead>\n",
       "    <tr>\n",
       "      <th id=\"T_6beaf_level0_col0\" class=\"col_heading level0 col0\" >Model</th>\n",
       "      <th id=\"T_6beaf_level0_col1\" class=\"col_heading level0 col1\" >Class-agnostic AP</th>\n",
       "    </tr>\n",
       "  </thead>\n",
       "  <tbody>\n",
       "    <tr>\n",
       "      <td id=\"T_6beaf_row0_col0\" class=\"data row0 col0\" >Thera Delhi to West Bengal</td>\n",
       "      <td id=\"T_6beaf_row0_col1\" class=\"data row0 col1\" >0.340852</td>\n",
       "    </tr>\n",
       "    <tr>\n",
       "      <td id=\"T_6beaf_row1_col0\" class=\"data row1 col0\" >Thera West Bengal to Delhi NCR</td>\n",
       "      <td id=\"T_6beaf_row1_col1\" class=\"data row1 col1\" >0.437286</td>\n",
       "    </tr>\n",
       "  </tbody>\n",
       "</table>\n"
      ],
      "text/plain": [
       "<pandas.io.formats.style.Styler at 0x7fd7163dcec0>"
      ]
     },
     "metadata": {},
     "output_type": "display_data"
    }
   ],
   "source": [
    "result=pd.read_csv(result_df_path)\n",
    "result = result.iloc[:, [0, -1]]\n",
    "display(result.style.hide(axis=\"index\"))"
   ]
  },
  {
   "cell_type": "code",
   "execution_count": null,
   "metadata": {},
   "outputs": [],
   "source": []
  }
 ],
 "metadata": {
  "kernelspec": {
   "display_name": "supervision",
   "language": "python",
   "name": "python3"
  },
  "language_info": {
   "codemirror_mode": {
    "name": "ipython",
    "version": 3
   },
   "file_extension": ".py",
   "mimetype": "text/x-python",
   "name": "python",
   "nbconvert_exporter": "python",
   "pygments_lexer": "ipython3",
   "version": "3.12.4"
  }
 },
 "nbformat": 4,
 "nbformat_minor": 2
}
